{
 "cells": [
  {
   "cell_type": "code",
   "execution_count": 1,
   "metadata": {
    "collapsed": true
   },
   "outputs": [
    {
     "name": "stderr",
     "output_type": "stream",
     "text": [
      "/Users/zarizky/conda-envs/pytorch/lib/python3.10/site-packages/tqdm/auto.py:22: TqdmWarning: IProgress not found. Please update jupyter and ipywidgets. See https://ipywidgets.readthedocs.io/en/stable/user_install.html\n",
      "  from .autonotebook import tqdm as notebook_tqdm\n"
     ]
    },
    {
     "name": "stdout",
     "output_type": "stream",
     "text": [
      "Using mps\n"
     ]
    }
   ],
   "source": [
    "from collections import defaultdict\n",
    "\n",
    "import torch\n",
    "from torchvision import datasets as D, transforms as T\n",
    "from tqdm import tqdm\n",
    "\n",
    "import layer\n",
    "from loss_function import MarginLoss\n",
    "\n",
    "torch.manual_seed(0)\n",
    "device = torch.device('mps' if torch.has_mps else 'cuda' if torch.has_cuda else 'cpu')\n",
    "\n",
    "print(f'Using {device.type}')"
   ]
  },
  {
   "cell_type": "code",
   "execution_count": 2,
   "outputs": [
    {
     "name": "stdout",
     "output_type": "stream",
     "text": [
      "Model size: 6,804,384\n"
     ]
    }
   ],
   "source": [
    "train_dataset = D.MNIST('mnist', True, T.ToTensor(), download=True)\n",
    "valid_dataset = D.MNIST('mnist', False, T.ToTensor())\n",
    "\n",
    "batch_size = 32\n",
    "trainloader = torch.utils.data.DataLoader(train_dataset, batch_size, True, num_workers=8)\n",
    "validloader = torch.utils.data.DataLoader(valid_dataset, batch_size, True, num_workers=8)\n",
    "\n",
    "lr = 5e-4\n",
    "model = torch.nn.Sequential(\n",
    "    torch.nn.Conv2d(1, 256, 9),\n",
    "    torch.nn.ReLU(),\n",
    "    layer.PrimaryCapsule(256, 32, 8, 9, 2),\n",
    "    layer.Squash('dr'),\n",
    "    layer.CapsuleTransform(32 * 6 * 6, 8, 10, 16),\n",
    "    layer.DynamicRouter(10, 16)\n",
    ").to('mps')\n",
    "\n",
    "print(f'Model size: {sum(p.numel() for p in model.parameters()):,}')\n",
    "\n",
    "criterion = MarginLoss()\n",
    "optimizer = torch.optim.Adam(model.parameters(), lr)"
   ],
   "metadata": {
    "collapsed": false
   }
  },
  {
   "cell_type": "code",
   "execution_count": 3,
   "outputs": [
    {
     "name": "stdout",
     "output_type": "stream",
     "text": [
      "CapsNet parameter size: 6,804,384\n",
      "\n",
      "Epoch 1/150\n"
     ]
    },
    {
     "name": "stderr",
     "output_type": "stream",
     "text": [
      "100%|██████████| 2188/2188 [03:23<00:00, 10.77it/s, loss=0.221, accuracy=75.6, val_loss=0.245, val_accuracy=74.2]\n"
     ]
    },
    {
     "name": "stdout",
     "output_type": "stream",
     "text": [
      "Epoch 2/150\n"
     ]
    },
    {
     "name": "stderr",
     "output_type": "stream",
     "text": [
      "100%|██████████| 2188/2188 [03:26<00:00, 10.61it/s, loss=0.167, accuracy=82.8, val_loss=0.264, val_accuracy=77.7]\n"
     ]
    },
    {
     "name": "stdout",
     "output_type": "stream",
     "text": [
      "Epoch 3/150\n"
     ]
    },
    {
     "name": "stderr",
     "output_type": "stream",
     "text": [
      "100%|██████████| 2188/2188 [03:25<00:00, 10.67it/s, loss=0.143, accuracy=85.8, val_loss=0.293, val_accuracy=76.8]\n"
     ]
    },
    {
     "name": "stdout",
     "output_type": "stream",
     "text": [
      "Epoch 4/150\n"
     ]
    },
    {
     "name": "stderr",
     "output_type": "stream",
     "text": [
      "100%|██████████| 2188/2188 [03:21<00:00, 10.88it/s, loss=0.13, accuracy=87, val_loss=0.378, val_accuracy=68.6]\n"
     ]
    },
    {
     "name": "stdout",
     "output_type": "stream",
     "text": [
      "Epoch 5/150\n"
     ]
    },
    {
     "name": "stderr",
     "output_type": "stream",
     "text": [
      "100%|██████████| 2188/2188 [03:24<00:00, 10.69it/s, loss=0.129, accuracy=87.5, val_loss=0.394, val_accuracy=72.3]\n"
     ]
    },
    {
     "name": "stdout",
     "output_type": "stream",
     "text": [
      "Epoch 6/150\n"
     ]
    },
    {
     "name": "stderr",
     "output_type": "stream",
     "text": [
      "100%|██████████| 2188/2188 [03:24<00:00, 10.72it/s, loss=0.12, accuracy=88.2, val_loss=0.474, val_accuracy=68.7]\n"
     ]
    },
    {
     "name": "stdout",
     "output_type": "stream",
     "text": [
      "Epoch 7/150\n"
     ]
    },
    {
     "name": "stderr",
     "output_type": "stream",
     "text": [
      "100%|██████████| 2188/2188 [03:22<00:00, 10.81it/s, loss=0.123, accuracy=88, val_loss=0.641, val_accuracy=61.2]\n"
     ]
    },
    {
     "name": "stdout",
     "output_type": "stream",
     "text": [
      "Epoch 8/150\n"
     ]
    },
    {
     "name": "stderr",
     "output_type": "stream",
     "text": [
      "100%|██████████| 2188/2188 [03:22<00:00, 10.81it/s, loss=0.124, accuracy=87.6, val_loss=0.696, val_accuracy=51.7]\n"
     ]
    },
    {
     "name": "stdout",
     "output_type": "stream",
     "text": [
      "Epoch 9/150\n"
     ]
    },
    {
     "name": "stderr",
     "output_type": "stream",
     "text": [
      "100%|██████████| 2188/2188 [03:24<00:00, 10.68it/s, loss=0.121, accuracy=88.4, val_loss=0.698, val_accuracy=53.2]\n"
     ]
    },
    {
     "name": "stdout",
     "output_type": "stream",
     "text": [
      "Epoch 10/150\n"
     ]
    },
    {
     "name": "stderr",
     "output_type": "stream",
     "text": [
      "100%|██████████| 2188/2188 [03:25<00:00, 10.67it/s, loss=0.124, accuracy=88.1, val_loss=0.744, val_accuracy=56.9]\n"
     ]
    },
    {
     "name": "stdout",
     "output_type": "stream",
     "text": [
      "Epoch 11/150\n"
     ]
    },
    {
     "name": "stderr",
     "output_type": "stream",
     "text": [
      "100%|██████████| 2188/2188 [03:34<00:00, 10.21it/s, loss=0.12, accuracy=88.3, val_loss=0.768, val_accuracy=58.6]\n"
     ]
    },
    {
     "name": "stdout",
     "output_type": "stream",
     "text": [
      "Epoch 12/150\n"
     ]
    },
    {
     "name": "stderr",
     "output_type": "stream",
     "text": [
      "100%|██████████| 2188/2188 [03:38<00:00, 10.00it/s, loss=0.113, accuracy=89.1, val_loss=0.756, val_accuracy=59]\n"
     ]
    },
    {
     "name": "stdout",
     "output_type": "stream",
     "text": [
      "Epoch 13/150\n"
     ]
    },
    {
     "name": "stderr",
     "output_type": "stream",
     "text": [
      "100%|██████████| 2188/2188 [03:33<00:00, 10.24it/s, loss=0.109, accuracy=89.5, val_loss=0.733, val_accuracy=64.9]\n"
     ]
    },
    {
     "name": "stdout",
     "output_type": "stream",
     "text": [
      "Epoch 14/150\n"
     ]
    },
    {
     "name": "stderr",
     "output_type": "stream",
     "text": [
      "100%|██████████| 2188/2188 [03:36<00:00, 10.09it/s, loss=0.102, accuracy=90.3, val_loss=0.856, val_accuracy=51.1]\n"
     ]
    },
    {
     "name": "stdout",
     "output_type": "stream",
     "text": [
      "Epoch 15/150\n"
     ]
    },
    {
     "name": "stderr",
     "output_type": "stream",
     "text": [
      "100%|██████████| 2188/2188 [03:36<00:00, 10.11it/s, loss=0.103, accuracy=90.2, val_loss=0.818, val_accuracy=57.3]\n"
     ]
    },
    {
     "name": "stdout",
     "output_type": "stream",
     "text": [
      "Epoch 16/150\n"
     ]
    },
    {
     "name": "stderr",
     "output_type": "stream",
     "text": [
      "100%|██████████| 2188/2188 [03:33<00:00, 10.23it/s, loss=0.1, accuracy=90.4, val_loss=0.864, val_accuracy=54.6]\n"
     ]
    },
    {
     "name": "stdout",
     "output_type": "stream",
     "text": [
      "Epoch 17/150\n"
     ]
    },
    {
     "name": "stderr",
     "output_type": "stream",
     "text": [
      "100%|██████████| 2188/2188 [03:38<00:00, 10.01it/s, loss=0.0982, accuracy=90.5, val_loss=0.872, val_accuracy=53.8]\n"
     ]
    },
    {
     "name": "stdout",
     "output_type": "stream",
     "text": [
      "Epoch 18/150\n"
     ]
    },
    {
     "name": "stderr",
     "output_type": "stream",
     "text": [
      "100%|██████████| 2188/2188 [03:42<00:00,  9.85it/s, loss=0.101, accuracy=90.5, val_loss=0.86, val_accuracy=53.7]\n"
     ]
    },
    {
     "name": "stdout",
     "output_type": "stream",
     "text": [
      "Epoch 19/150\n"
     ]
    },
    {
     "name": "stderr",
     "output_type": "stream",
     "text": [
      "100%|██████████| 2188/2188 [03:33<00:00, 10.25it/s, loss=0.104, accuracy=90.2, val_loss=0.937, val_accuracy=50]\n"
     ]
    },
    {
     "name": "stdout",
     "output_type": "stream",
     "text": [
      "Epoch 20/150\n"
     ]
    },
    {
     "name": "stderr",
     "output_type": "stream",
     "text": [
      "100%|██████████| 2188/2188 [03:32<00:00, 10.32it/s, loss=0.105, accuracy=89.9, val_loss=0.956, val_accuracy=50.1]\n"
     ]
    },
    {
     "name": "stdout",
     "output_type": "stream",
     "text": [
      "Epoch 21/150\n"
     ]
    },
    {
     "name": "stderr",
     "output_type": "stream",
     "text": [
      "100%|██████████| 2188/2188 [03:36<00:00, 10.12it/s, loss=0.103, accuracy=90, val_loss=0.817, val_accuracy=54]\n"
     ]
    },
    {
     "name": "stdout",
     "output_type": "stream",
     "text": [
      "Epoch 22/150\n"
     ]
    },
    {
     "name": "stderr",
     "output_type": "stream",
     "text": [
      " 79%|███████▊  | 1719/2188 [03:05<00:50,  9.26it/s]\n"
     ]
    },
    {
     "ename": "KeyboardInterrupt",
     "evalue": "",
     "output_type": "error",
     "traceback": [
      "\u001B[0;31m---------------------------------------------------------------------------\u001B[0m",
      "\u001B[0;31mKeyboardInterrupt\u001B[0m                         Traceback (most recent call last)",
      "Cell \u001B[0;32mIn[3], line 23\u001B[0m\n\u001B[1;32m     20\u001B[0m loss\u001B[38;5;241m.\u001B[39mbackward()\n\u001B[1;32m     21\u001B[0m optimizer\u001B[38;5;241m.\u001B[39mstep()\n\u001B[0;32m---> 23\u001B[0m record[\u001B[38;5;124m'\u001B[39m\u001B[38;5;124mloss\u001B[39m\u001B[38;5;124m'\u001B[39m] \u001B[38;5;241m+\u001B[39m\u001B[38;5;241m=\u001B[39m \u001B[43mloss\u001B[49m\u001B[38;5;241;43m.\u001B[39;49m\u001B[43mitem\u001B[49m\u001B[43m(\u001B[49m\u001B[43m)\u001B[49m\n\u001B[1;32m     24\u001B[0m record[\u001B[38;5;124m'\u001B[39m\u001B[38;5;124maccuracy\u001B[39m\u001B[38;5;124m'\u001B[39m] \u001B[38;5;241m+\u001B[39m\u001B[38;5;241m=\u001B[39m (outputs\u001B[38;5;241m.\u001B[39margmax(\u001B[38;5;241m-\u001B[39m\u001B[38;5;241m1\u001B[39m) \u001B[38;5;241m==\u001B[39m targets)\u001B[38;5;241m.\u001B[39mfloat()\u001B[38;5;241m.\u001B[39mmean()\u001B[38;5;241m.\u001B[39mitem() \u001B[38;5;241m*\u001B[39m \u001B[38;5;241m100\u001B[39m\n\u001B[1;32m     25\u001B[0m pbar\u001B[38;5;241m.\u001B[39mupdate()\n",
      "\u001B[0;31mKeyboardInterrupt\u001B[0m: "
     ]
    }
   ],
   "source": [
    "print(f'CapsNet parameter size: {sum(p.numel() for p in model.parameters()):,}')\n",
    "print()\n",
    "\n",
    "history = []\n",
    "epochs = 150\n",
    "for i in range(1, epochs + 1):\n",
    "    record = defaultdict(float)\n",
    "\n",
    "    print(f'Epoch {i}/{epochs}')\n",
    "    with tqdm(total=len(trainloader) + len(validloader)) as pbar:\n",
    "        model.train()\n",
    "        for inputs, targets in trainloader:\n",
    "            inputs = inputs.to(device)\n",
    "            targets = targets.to(device)\n",
    "\n",
    "            outputs = model(inputs).norm(p=2, dim=-1)\n",
    "            loss = criterion(outputs, targets)\n",
    "\n",
    "            optimizer.zero_grad()\n",
    "            loss.backward()\n",
    "            optimizer.step()\n",
    "\n",
    "            record['loss'] += loss.item()\n",
    "            record['accuracy'] += (outputs.argmax(-1) == targets).float().mean().item() * 100\n",
    "            pbar.update()\n",
    "\n",
    "        record['loss'] /= len(trainloader)\n",
    "        record['accuracy'] /= len(trainloader)\n",
    "        pbar.set_postfix(record)\n",
    "\n",
    "        model.eval()\n",
    "        for inputs, targets in validloader:\n",
    "            inputs = inputs.to(device)\n",
    "            targets = targets.to(device)\n",
    "\n",
    "            with torch.inference_mode():\n",
    "                outputs = model(inputs).norm(p=2, dim=-1)\n",
    "                loss = criterion(outputs, targets)\n",
    "\n",
    "            record['val_loss'] += loss.item()\n",
    "            record['val_accuracy'] += (outputs.argmax(-1) == targets).float().mean().item() * 100\n",
    "            pbar.update()wmm\n",
    "\n",
    "        record['val_loss'] /= len(validloader)\n",
    "        record['val_accuracy'] /= len(validloader)\n",
    "        pbar.set_postfix(record)\n",
    "        history.append(record)"
   ],
   "metadata": {
    "collapsed": false
   }
  }
 ],
 "metadata": {
  "kernelspec": {
   "display_name": "Python 3",
   "language": "python",
   "name": "python3"
  },
  "language_info": {
   "codemirror_mode": {
    "name": "ipython",
    "version": 2
   },
   "file_extension": ".py",
   "mimetype": "text/x-python",
   "name": "python",
   "nbconvert_exporter": "python",
   "pygments_lexer": "ipython2",
   "version": "2.7.6"
  }
 },
 "nbformat": 4,
 "nbformat_minor": 0
}
