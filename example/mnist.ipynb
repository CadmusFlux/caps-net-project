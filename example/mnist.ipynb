{
 "cells": [
  {
   "cell_type": "code",
   "execution_count": 1,
   "metadata": {},
   "outputs": [
    {
     "name": "stdout",
     "output_type": "stream",
     "text": [
      "Using mps\n"
     ]
    },
    {
     "name": "stderr",
     "output_type": "stream",
     "text": [
      "/Users/zarizky/conda-envs/pytorch/lib/python3.10/site-packages/tqdm/auto.py:22: TqdmWarning: IProgress not found. Please update jupyter and ipywidgets. See https://ipywidgets.readthedocs.io/en/stable/user_install.html\n",
      "  from .autonotebook import tqdm as notebook_tqdm\n"
     ]
    }
   ],
   "source": [
    "from torchvision.datasets import MNIST\n",
    "import torchvision.transforms as T\n",
    "import torch\n",
    "from dynamic_routing import InputStem, PrimaryCaps, DigitCaps\n",
    "from loss_function import MarginLoss\n",
    "from collections import defaultdict\n",
    "from tqdm import tqdm\n",
    "\n",
    "torch.manual_seed(0)\n",
    "device = torch.device('mps' if torch.has_mps else 'cuda' if torch.has_cuda else 'cpu')\n",
    "\n",
    "print(f'Using {device.type}')"
   ]
  },
  {
   "cell_type": "code",
   "execution_count": 2,
   "outputs": [
    {
     "name": "stdout",
     "output_type": "stream",
     "text": [
      "CapsNet parameter size: 6,804,384\n",
      "\n",
      "Epoch 1/1\n"
     ]
    },
    {
     "name": "stderr",
     "output_type": "stream",
     "text": [
      "100%|██████████| 2188/2188 [01:39<00:00, 22.10it/s, loss=0.134, accuracy=96.6, val_loss=0.0974, val_accuracy=98.4]\n"
     ]
    }
   ],
   "source": [
    "model = torch.nn.Sequential(\n",
    "    InputStem(1),\n",
    "    PrimaryCaps(256),\n",
    "    DigitCaps(32 * 6 * 6)\n",
    ").to(device)\n",
    "\n",
    "transform = T.ToTensor()\n",
    "\n",
    "trainset = MNIST('mnist', train=True, transform=transform, download=True)\n",
    "validset = MNIST('mnist', train=False, transform=transform)\n",
    "\n",
    "trainloader = torch.utils.data.DataLoader(trainset, 32, True, num_workers=8)\n",
    "validloader = torch.utils.data.DataLoader(validset, 32, num_workers=8)\n",
    "\n",
    "criterion = MarginLoss()\n",
    "optimizer = torch.optim.AdamW(model.parameters(), 5e-4)\n",
    "\n",
    "print(f'CapsNet parameter size: {sum(p.numel() for p in model.parameters()):,}')\n",
    "print()\n",
    "\n",
    "history = []\n",
    "epochs = 1\n",
    "for i in range(1, epochs + 1):\n",
    "    record = defaultdict(float)\n",
    "\n",
    "    print(f'Epoch {i}/{epochs}')\n",
    "    with tqdm(total=len(trainloader) + len(validloader)) as pbar:\n",
    "        model.train()\n",
    "        for inputs, targets in trainloader:\n",
    "            inputs = inputs.to(device)\n",
    "            targets = targets.to(device)\n",
    "\n",
    "            outputs = model(inputs)\n",
    "            loss = criterion(outputs, targets)\n",
    "\n",
    "            loss.backward()\n",
    "            optimizer.step()\n",
    "            optimizer.zero_grad()\n",
    "\n",
    "            record['loss'] += loss.item()\n",
    "            record['accuracy'] += (outputs.argmax(-1) == targets).float().mean().item() * 100\n",
    "            pbar.update()\n",
    "\n",
    "        record['loss'] /= len(trainloader)\n",
    "        record['accuracy'] /= len(trainloader)\n",
    "        pbar.set_postfix(record)\n",
    "\n",
    "        model.eval()\n",
    "        for inputs, targets in validloader:\n",
    "            inputs = inputs.to(device)\n",
    "            targets = targets.to(device)\n",
    "\n",
    "            with torch.inference_mode():\n",
    "                outputs = model(inputs)\n",
    "                loss = criterion(outputs, targets)\n",
    "\n",
    "            record['val_loss'] += loss.item()\n",
    "            record['val_accuracy'] += (outputs.argmax(-1) == targets).float().mean().item() * 100\n",
    "            pbar.update()\n",
    "\n",
    "        record['val_loss'] /= len(validloader)\n",
    "        record['val_accuracy'] /= len(validloader)\n",
    "        pbar.set_postfix(record)\n",
    "        history.append(record)"
   ],
   "metadata": {
    "collapsed": false
   }
  }
 ],
 "metadata": {
  "kernelspec": {
   "display_name": "Python 3 (ipykernel)",
   "language": "python",
   "name": "python3"
  },
  "language_info": {
   "codemirror_mode": {
    "name": "ipython",
    "version": 3
   },
   "file_extension": ".py",
   "mimetype": "text/x-python",
   "name": "python",
   "nbconvert_exporter": "python",
   "pygments_lexer": "ipython3",
   "version": "3.10.9"
  }
 },
 "nbformat": 4,
 "nbformat_minor": 1
}
