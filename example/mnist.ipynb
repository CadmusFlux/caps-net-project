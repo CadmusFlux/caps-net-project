{
 "cells": [
  {
   "cell_type": "code",
   "execution_count": 1,
   "metadata": {},
   "outputs": [
    {
     "name": "stdout",
     "output_type": "stream",
     "text": [
      "Using mps\n"
     ]
    },
    {
     "name": "stderr",
     "output_type": "stream",
     "text": [
      "/Users/zarizky/conda-envs/pytorch/lib/python3.10/site-packages/tqdm/auto.py:22: TqdmWarning: IProgress not found. Please update jupyter and ipywidgets. See https://ipywidgets.readthedocs.io/en/stable/user_install.html\n",
      "  from .autonotebook import tqdm as notebook_tqdm\n"
     ]
    }
   ],
   "source": [
    "from collections import defaultdict\n",
    "\n",
    "import torchvision.transforms as T\n",
    "from torchvision.datasets import MNIST\n",
    "from tqdm import tqdm\n",
    "\n",
    "from capsnet import *\n",
    "from loss_function import MarginLoss\n",
    "\n",
    "torch.manual_seed(0)\n",
    "device = torch.device('mps' if torch.has_mps else 'cuda' if torch.has_cuda else 'cpu')\n",
    "\n",
    "print(f'Using {device.type}')"
   ]
  },
  {
   "cell_type": "code",
   "execution_count": 2,
   "outputs": [
    {
     "ename": "TypeError",
     "evalue": "AgreementRouter.__init__() missing 1 required positional argument: 'out_capsules'",
     "output_type": "error",
     "traceback": [
      "\u001B[0;31m---------------------------------------------------------------------------\u001B[0m",
      "\u001B[0;31mTypeError\u001B[0m                                 Traceback (most recent call last)",
      "Cell \u001B[0;32mIn[2], line 16\u001B[0m\n\u001B[1;32m      1\u001B[0m model \u001B[38;5;241m=\u001B[39m torch\u001B[38;5;241m.\u001B[39mnn\u001B[38;5;241m.\u001B[39mSequential(\n\u001B[1;32m      2\u001B[0m     torch\u001B[38;5;241m.\u001B[39mnn\u001B[38;5;241m.\u001B[39mConv2d(\u001B[38;5;241m1\u001B[39m, \u001B[38;5;241m32\u001B[39m, \u001B[38;5;241m5\u001B[39m, bias\u001B[38;5;241m=\u001B[39m\u001B[38;5;28;01mFalse\u001B[39;00m),\n\u001B[1;32m      3\u001B[0m     torch\u001B[38;5;241m.\u001B[39mnn\u001B[38;5;241m.\u001B[39mInstanceNorm2d(\u001B[38;5;241m32\u001B[39m, affine\u001B[38;5;241m=\u001B[39m\u001B[38;5;28;01mTrue\u001B[39;00m),\n\u001B[1;32m      4\u001B[0m     torch\u001B[38;5;241m.\u001B[39mnn\u001B[38;5;241m.\u001B[39mReLU(),\n\u001B[1;32m      5\u001B[0m     torch\u001B[38;5;241m.\u001B[39mnn\u001B[38;5;241m.\u001B[39mConv2d(\u001B[38;5;241m32\u001B[39m, \u001B[38;5;241m64\u001B[39m, \u001B[38;5;241m3\u001B[39m, bias\u001B[38;5;241m=\u001B[39m\u001B[38;5;28;01mFalse\u001B[39;00m),\n\u001B[1;32m      6\u001B[0m     torch\u001B[38;5;241m.\u001B[39mnn\u001B[38;5;241m.\u001B[39mInstanceNorm2d(\u001B[38;5;241m64\u001B[39m, affine\u001B[38;5;241m=\u001B[39m\u001B[38;5;28;01mTrue\u001B[39;00m),\n\u001B[1;32m      7\u001B[0m     torch\u001B[38;5;241m.\u001B[39mnn\u001B[38;5;241m.\u001B[39mReLU(),\n\u001B[1;32m      8\u001B[0m     torch\u001B[38;5;241m.\u001B[39mnn\u001B[38;5;241m.\u001B[39mConv2d(\u001B[38;5;241m64\u001B[39m, \u001B[38;5;241m64\u001B[39m, \u001B[38;5;241m3\u001B[39m, bias\u001B[38;5;241m=\u001B[39m\u001B[38;5;28;01mFalse\u001B[39;00m),\n\u001B[1;32m      9\u001B[0m     torch\u001B[38;5;241m.\u001B[39mnn\u001B[38;5;241m.\u001B[39mInstanceNorm2d(\u001B[38;5;241m64\u001B[39m, affine\u001B[38;5;241m=\u001B[39m\u001B[38;5;28;01mTrue\u001B[39;00m),\n\u001B[1;32m     10\u001B[0m     torch\u001B[38;5;241m.\u001B[39mnn\u001B[38;5;241m.\u001B[39mReLU(),\n\u001B[1;32m     11\u001B[0m     torch\u001B[38;5;241m.\u001B[39mnn\u001B[38;5;241m.\u001B[39mConv2d(\u001B[38;5;241m64\u001B[39m, \u001B[38;5;241m128\u001B[39m, \u001B[38;5;241m3\u001B[39m, \u001B[38;5;241m2\u001B[39m, bias\u001B[38;5;241m=\u001B[39m\u001B[38;5;28;01mFalse\u001B[39;00m),\n\u001B[1;32m     12\u001B[0m     torch\u001B[38;5;241m.\u001B[39mnn\u001B[38;5;241m.\u001B[39mInstanceNorm2d(\u001B[38;5;241m128\u001B[39m, affine\u001B[38;5;241m=\u001B[39m\u001B[38;5;28;01mTrue\u001B[39;00m),\n\u001B[1;32m     13\u001B[0m     torch\u001B[38;5;241m.\u001B[39mnn\u001B[38;5;241m.\u001B[39mReLU(),\n\u001B[1;32m     14\u001B[0m     PrimaryCapsule(\u001B[38;5;241m128\u001B[39m, \u001B[38;5;241m8\u001B[39m, \u001B[38;5;241m16\u001B[39m, \u001B[38;5;241m9\u001B[39m, activation\u001B[38;5;241m=\u001B[39mSquashSA, depthwise\u001B[38;5;241m=\u001B[39m\u001B[38;5;28;01mTrue\u001B[39;00m),\n\u001B[1;32m     15\u001B[0m     CapsuleTransform(\u001B[38;5;241m8\u001B[39m, \u001B[38;5;241m16\u001B[39m, \u001B[38;5;241m16\u001B[39m, \u001B[38;5;241m10\u001B[39m),\n\u001B[0;32m---> 16\u001B[0m     \u001B[43mAgreementRouter\u001B[49m\u001B[43m(\u001B[49m\u001B[38;5;241;43m16\u001B[39;49m\u001B[43m,\u001B[49m\u001B[43m \u001B[49m\u001B[38;5;241;43m10\u001B[39;49m\u001B[43m,\u001B[49m\u001B[43m \u001B[49m\u001B[43mactivation\u001B[49m\u001B[38;5;241;43m=\u001B[39;49m\u001B[43mSquashSA\u001B[49m\u001B[43m)\u001B[49m\n\u001B[1;32m     17\u001B[0m )\u001B[38;5;241m.\u001B[39mto(device)\n\u001B[1;32m     19\u001B[0m transform \u001B[38;5;241m=\u001B[39m T\u001B[38;5;241m.\u001B[39mToTensor()\n\u001B[1;32m     21\u001B[0m trainset \u001B[38;5;241m=\u001B[39m MNIST(\u001B[38;5;124m'\u001B[39m\u001B[38;5;124mmnist\u001B[39m\u001B[38;5;124m'\u001B[39m, train\u001B[38;5;241m=\u001B[39m\u001B[38;5;28;01mTrue\u001B[39;00m, transform\u001B[38;5;241m=\u001B[39mtransform, download\u001B[38;5;241m=\u001B[39m\u001B[38;5;28;01mTrue\u001B[39;00m)\n",
      "\u001B[0;31mTypeError\u001B[0m: AgreementRouter.__init__() missing 1 required positional argument: 'out_capsules'"
     ]
    }
   ],
   "source": [
    "model = torch.nn.Sequential(\n",
    "    torch.nn.Conv2d(1, 256, 9),\n",
    "    torch.nn.ReLU(),\n",
    "    layer.PrimaryCapsule(256, 32, 8, 9, 2),\n",
    "    layer.Squash('dr'),\n",
    "    layer.CapsuleTransform(32 * 6 * 6, 8, 10, 16),\n",
    "    layer.DynamicRouter(10, 16)\n",
    ").to(device)\n",
    "\n",
    "transform = T.ToTensor()\n",
    "\n",
    "trainset = MNIST('mnist', train=True, transform=transform, download=True)\n",
    "validset = MNIST('mnist', train=False, transform=transform)\n",
    "\n",
    "epochs = 100\n",
    "batch_size = 16\n",
    "\n",
    "trainloader = torch.utils.data.DataLoader(trainset, batch_size, True, num_workers=8)\n",
    "validloader = torch.utils.data.DataLoader(validset, batch_size, num_workers=8)\n",
    "\n",
    "criterion = MarginLoss()\n",
    "optimizer = torch.optim.AdamW(model.parameters(), 1e-3)\n",
    "scheduler = torch.optim.lr_scheduler.CosineAnnealingLR(optimizer, len(trainloader) * 50)\n",
    "\n",
    "print(f'CapsNet parameter size: {sum(p.numel() for p in model.parameters()):,}')\n",
    "print()\n",
    "\n",
    "history = []\n",
    "for i in range(1, epochs + 1):\n",
    "    record = defaultdict(float)\n",
    "\n",
    "    print(f'Epoch {i}/{epochs}')\n",
    "    with tqdm(total=len(trainloader) + len(validloader)) as pbar:\n",
    "        model.train()\n",
    "        for inputs, targets in trainloader:\n",
    "            inputs = inputs.to(device)\n",
    "            targets = targets.to(device)\n",
    "\n",
    "            outputs = model(inputs).norm(p=2, dim=-1)\n",
    "            loss = criterion(outputs, targets)\n",
    "\n",
    "            optimizer.zero_grad()\n",
    "            loss.backward()\n",
    "            optimizer.step()\n",
    "            scheduler.step()\n",
    "\n",
    "            record['loss'] += loss.item()\n",
    "            record['accuracy'] += (outputs.argmax(-1) == targets).float().mean().item() * 100\n",
    "            pbar.update()\n",
    "\n",
    "        record['loss'] /= len(trainloader)\n",
    "        record['accuracy'] /= len(trainloader)\n",
    "        pbar.set_postfix(record)\n",
    "\n",
    "        model.eval()\n",
    "        for inputs, targets in validloader:\n",
    "            inputs = inputs.to(device)\n",
    "            targets = targets.to(device)\n",
    "\n",
    "            with torch.inference_mode():\n",
    "                outputs = model(inputs).norm(p=2, dim=-1)\n",
    "                loss = criterion(outputs, targets)\n",
    "\n",
    "            record['val_loss'] += loss.item()\n",
    "            record['val_accuracy'] += (outputs.argmax(-1) == targets).float().mean().item() * 100\n",
    "            pbar.update()\n",
    "\n",
    "        record['val_loss'] /= len(validloader)\n",
    "        record['val_accuracy'] /= len(validloader)\n",
    "        pbar.set_postfix(record)\n",
    "        history.append(record)"
   ],
   "metadata": {
    "collapsed": false
   }
  }
 ],
 "metadata": {
  "kernelspec": {
   "display_name": "Python 3 (ipykernel)",
   "language": "python",
   "name": "python3"
  },
  "language_info": {
   "codemirror_mode": {
    "name": "ipython",
    "version": 3
   },
   "file_extension": ".py",
   "mimetype": "text/x-python",
   "name": "python",
   "nbconvert_exporter": "python",
   "pygments_lexer": "ipython3",
   "version": "3.10.9"
  }
 },
 "nbformat": 4,
 "nbformat_minor": 1
}
