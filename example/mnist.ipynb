{
 "cells": [
  {
   "cell_type": "code",
   "execution_count": 1,
   "metadata": {},
   "outputs": [
    {
     "name": "stderr",
     "output_type": "stream",
     "text": [
      "/Users/zarizky/conda-envs/pytorch/lib/python3.10/site-packages/tqdm/auto.py:22: TqdmWarning: IProgress not found. Please update jupyter and ipywidgets. See https://ipywidgets.readthedocs.io/en/stable/user_install.html\n",
      "  from .autonotebook import tqdm as notebook_tqdm\n"
     ]
    },
    {
     "name": "stdout",
     "output_type": "stream",
     "text": [
      "Using mps\n"
     ]
    }
   ],
   "source": [
    "from torchvision.datasets import MNIST\n",
    "import torchvision.transforms as T\n",
    "import torch\n",
    "from capsnet import *\n",
    "from loss_function import MarginLoss\n",
    "from collections import defaultdict\n",
    "from tqdm import tqdm\n",
    "\n",
    "torch.manual_seed(0)\n",
    "device = torch.device('mps' if torch.has_mps else 'cuda' if torch.has_cuda else 'cpu')\n",
    "\n",
    "print(f'Using {device.type}')"
   ]
  },
  {
   "cell_type": "code",
   "execution_count": null,
   "outputs": [
    {
     "name": "stdout",
     "output_type": "stream",
     "text": [
      "CapsNet parameter size: 161,536\n",
      "\n",
      "Epoch 1/100\n"
     ]
    },
    {
     "name": "stderr",
     "output_type": "stream",
     "text": [
      "100%|██████████| 4375/4375 [01:23<00:00, 52.32it/s, loss=0.645, accuracy=71.8, val_loss=0.533, val_accuracy=83.1] \n"
     ]
    },
    {
     "name": "stdout",
     "output_type": "stream",
     "text": [
      "Epoch 2/100\n"
     ]
    },
    {
     "name": "stderr",
     "output_type": "stream",
     "text": [
      "100%|██████████| 4375/4375 [01:23<00:00, 52.33it/s, loss=0.234, accuracy=39, val_loss=0, val_accuracy=0] \n"
     ]
    },
    {
     "name": "stdout",
     "output_type": "stream",
     "text": [
      "Epoch 3/100\n"
     ]
    },
    {
     "name": "stderr",
     "output_type": "stream",
     "text": [
      "100%|██████████| 4375/4375 [01:21<00:00, 53.70it/s, loss=0, accuracy=0, val_loss=0, val_accuracy=0] \n"
     ]
    },
    {
     "name": "stdout",
     "output_type": "stream",
     "text": [
      "Epoch 4/100\n"
     ]
    },
    {
     "name": "stderr",
     "output_type": "stream",
     "text": [
      "100%|██████████| 4375/4375 [01:21<00:00, 53.58it/s, loss=0, accuracy=0, val_loss=0, val_accuracy=0] \n"
     ]
    },
    {
     "name": "stdout",
     "output_type": "stream",
     "text": [
      "Epoch 5/100\n"
     ]
    },
    {
     "name": "stderr",
     "output_type": "stream",
     "text": [
      "100%|██████████| 4375/4375 [01:21<00:00, 53.75it/s, loss=0, accuracy=0, val_loss=0, val_accuracy=0] \n"
     ]
    },
    {
     "name": "stdout",
     "output_type": "stream",
     "text": [
      "Epoch 6/100\n"
     ]
    },
    {
     "name": "stderr",
     "output_type": "stream",
     "text": [
      "100%|██████████| 4375/4375 [01:21<00:00, 53.94it/s, loss=0, accuracy=0, val_loss=0, val_accuracy=0] \n"
     ]
    },
    {
     "name": "stdout",
     "output_type": "stream",
     "text": [
      "Epoch 7/100\n"
     ]
    },
    {
     "name": "stderr",
     "output_type": "stream",
     "text": [
      "100%|██████████| 4375/4375 [01:21<00:00, 53.78it/s, loss=0, accuracy=0, val_loss=0, val_accuracy=0] \n"
     ]
    },
    {
     "name": "stdout",
     "output_type": "stream",
     "text": [
      "Epoch 8/100\n"
     ]
    },
    {
     "name": "stderr",
     "output_type": "stream",
     "text": [
      "100%|██████████| 4375/4375 [01:21<00:00, 53.49it/s, loss=0, accuracy=0, val_loss=0, val_accuracy=0] \n"
     ]
    },
    {
     "name": "stdout",
     "output_type": "stream",
     "text": [
      "Epoch 9/100\n"
     ]
    },
    {
     "name": "stderr",
     "output_type": "stream",
     "text": [
      "100%|██████████| 4375/4375 [01:24<00:00, 52.00it/s, loss=0, accuracy=0, val_loss=0, val_accuracy=0] \n"
     ]
    },
    {
     "name": "stdout",
     "output_type": "stream",
     "text": [
      "Epoch 10/100\n"
     ]
    },
    {
     "name": "stderr",
     "output_type": "stream",
     "text": [
      "100%|██████████| 4375/4375 [01:24<00:00, 51.62it/s, loss=0, accuracy=0, val_loss=0, val_accuracy=0] \n"
     ]
    },
    {
     "name": "stdout",
     "output_type": "stream",
     "text": [
      "Epoch 11/100\n"
     ]
    },
    {
     "name": "stderr",
     "output_type": "stream",
     "text": [
      "100%|██████████| 4375/4375 [01:24<00:00, 51.54it/s, loss=0, accuracy=0, val_loss=0, val_accuracy=0] \n"
     ]
    },
    {
     "name": "stdout",
     "output_type": "stream",
     "text": [
      "Epoch 12/100\n"
     ]
    },
    {
     "name": "stderr",
     "output_type": "stream",
     "text": [
      "100%|██████████| 4375/4375 [01:24<00:00, 51.72it/s, loss=0, accuracy=0, val_loss=0, val_accuracy=0] \n"
     ]
    },
    {
     "name": "stdout",
     "output_type": "stream",
     "text": [
      "Epoch 13/100\n"
     ]
    },
    {
     "name": "stderr",
     "output_type": "stream",
     "text": [
      "100%|██████████| 4375/4375 [01:24<00:00, 51.52it/s, loss=0, accuracy=0, val_loss=0, val_accuracy=0] \n"
     ]
    },
    {
     "name": "stdout",
     "output_type": "stream",
     "text": [
      "Epoch 14/100\n"
     ]
    },
    {
     "name": "stderr",
     "output_type": "stream",
     "text": [
      "100%|██████████| 4375/4375 [01:24<00:00, 51.62it/s, loss=0, accuracy=0, val_loss=0, val_accuracy=0] \n"
     ]
    },
    {
     "name": "stdout",
     "output_type": "stream",
     "text": [
      "Epoch 15/100\n"
     ]
    },
    {
     "name": "stderr",
     "output_type": "stream",
     "text": [
      "100%|██████████| 4375/4375 [01:24<00:00, 51.52it/s, loss=0, accuracy=0, val_loss=0, val_accuracy=0] \n"
     ]
    },
    {
     "name": "stdout",
     "output_type": "stream",
     "text": [
      "Epoch 16/100\n"
     ]
    },
    {
     "name": "stderr",
     "output_type": "stream",
     "text": [
      "100%|██████████| 4375/4375 [01:46<00:00, 40.94it/s, loss=0, accuracy=0, val_loss=0, val_accuracy=0] \n"
     ]
    },
    {
     "name": "stdout",
     "output_type": "stream",
     "text": [
      "Epoch 17/100\n"
     ]
    },
    {
     "name": "stderr",
     "output_type": "stream",
     "text": [
      "100%|██████████| 4375/4375 [18:38<00:00,  3.91it/s, loss=0, accuracy=0, val_loss=0, val_accuracy=0] \n"
     ]
    },
    {
     "name": "stdout",
     "output_type": "stream",
     "text": [
      "Epoch 18/100\n"
     ]
    },
    {
     "name": "stderr",
     "output_type": "stream",
     "text": [
      "100%|██████████| 4375/4375 [14:49<00:00,  4.92it/s, loss=0, accuracy=0, val_loss=0, val_accuracy=0] \n"
     ]
    },
    {
     "name": "stdout",
     "output_type": "stream",
     "text": [
      "Epoch 19/100\n"
     ]
    },
    {
     "name": "stderr",
     "output_type": "stream",
     "text": [
      "100%|██████████| 4375/4375 [01:19<00:00, 54.82it/s, loss=0, accuracy=0, val_loss=0, val_accuracy=0] \n"
     ]
    },
    {
     "name": "stdout",
     "output_type": "stream",
     "text": [
      "Epoch 20/100\n"
     ]
    },
    {
     "name": "stderr",
     "output_type": "stream",
     "text": [
      "100%|██████████| 4375/4375 [01:22<00:00, 53.01it/s, loss=0, accuracy=0, val_loss=0, val_accuracy=0] \n"
     ]
    },
    {
     "name": "stdout",
     "output_type": "stream",
     "text": [
      "Epoch 21/100\n"
     ]
    },
    {
     "name": "stderr",
     "output_type": "stream",
     "text": [
      "100%|██████████| 4375/4375 [01:24<00:00, 52.01it/s, loss=0, accuracy=0, val_loss=0, val_accuracy=0] \n"
     ]
    },
    {
     "name": "stdout",
     "output_type": "stream",
     "text": [
      "Epoch 22/100\n"
     ]
    },
    {
     "name": "stderr",
     "output_type": "stream",
     "text": [
      "100%|██████████| 4375/4375 [01:21<00:00, 53.65it/s, loss=0, accuracy=0, val_loss=0, val_accuracy=0] \n"
     ]
    },
    {
     "name": "stdout",
     "output_type": "stream",
     "text": [
      "Epoch 23/100\n"
     ]
    },
    {
     "name": "stderr",
     "output_type": "stream",
     "text": [
      " 52%|█████▏    | 2282/4375 [00:47<00:43, 48.59it/s]"
     ]
    }
   ],
   "source": [
    "model = torch.nn.Sequential(\n",
    "    torch.nn.Conv2d(1, 32, 5, bias=False),\n",
    "    torch.nn.InstanceNorm2d(32, affine=True),\n",
    "    torch.nn.ReLU(),\n",
    "    torch.nn.Conv2d(32, 64, 3, bias=False),\n",
    "    torch.nn.InstanceNorm2d(64, affine=True),\n",
    "    torch.nn.ReLU(),\n",
    "    torch.nn.Conv2d(64, 64, 3, bias=False),\n",
    "    torch.nn.InstanceNorm2d(64, affine=True),\n",
    "    torch.nn.ReLU(),\n",
    "    torch.nn.Conv2d(64, 128, 3, 2, bias=False),\n",
    "    torch.nn.InstanceNorm2d(128, affine=True),\n",
    "    torch.nn.ReLU(),\n",
    "    PrimaryCapsule(128, 8, 16, 9, activation=SquashSA, depthwise=True),\n",
    "    CapsuleTransform(8, 16, 16, 10),\n",
    "    SelfAttentionRouter(16, 10, activation=SquashSA)\n",
    ").to(device)\n",
    "\n",
    "transform = T.ToTensor()\n",
    "\n",
    "trainset = MNIST('mnist', train=True, transform=transform, download=True)\n",
    "validset = MNIST('mnist', train=False, transform=transform)\n",
    "\n",
    "epochs = 100\n",
    "batch_size = 16\n",
    "\n",
    "trainloader = torch.utils.data.DataLoader(trainset, batch_size, True, num_workers=8)\n",
    "validloader = torch.utils.data.DataLoader(validset, batch_size, num_workers=8)\n",
    "\n",
    "criterion = MarginLoss()\n",
    "optimizer = torch.optim.AdamW(model.parameters(), 1e-4)\n",
    "scheduler = torch.optim.lr_scheduler.CosineAnnealingLR(optimizer, len(trainloader) * 50)\n",
    "\n",
    "print(f'CapsNet parameter size: {sum(p.numel() for p in model.parameters()):,}')\n",
    "print()\n",
    "\n",
    "history = []\n",
    "for i in range(1, epochs + 1):\n",
    "    record = defaultdict(float)\n",
    "\n",
    "    print(f'Epoch {i}/{epochs}')\n",
    "    with tqdm(total=len(trainloader) + len(validloader)) as pbar:\n",
    "        model.train()\n",
    "        for inputs, targets in trainloader:\n",
    "            inputs = inputs.to(device)\n",
    "            targets = targets.to(device)\n",
    "\n",
    "            outputs = model(inputs).norm(p=2, dim=-1)\n",
    "            loss = criterion(outputs, targets)\n",
    "\n",
    "            optimizer.zero_grad()\n",
    "            loss.backward()\n",
    "            optimizer.step()\n",
    "            scheduler.step()\n",
    "\n",
    "            record['loss'] += loss.item()\n",
    "            record['accuracy'] += (outputs.argmax(-1) == targets).float().mean().item() * 100\n",
    "            pbar.update()\n",
    "\n",
    "        record['loss'] /= len(trainloader)\n",
    "        record['accuracy'] /= len(trainloader)\n",
    "        pbar.set_postfix(record)\n",
    "\n",
    "        model.eval()\n",
    "        for inputs, targets in validloader:\n",
    "            inputs = inputs.to(device)\n",
    "            targets = targets.to(device)\n",
    "\n",
    "            with torch.inference_mode():\n",
    "                outputs = model(inputs).norm(p=2, dim=-1)\n",
    "                loss = criterion(outputs, targets)\n",
    "\n",
    "            record['val_loss'] += loss.item()\n",
    "            record['val_accuracy'] += (outputs.argmax(-1) == targets).float().mean().item() * 100\n",
    "            pbar.update()\n",
    "\n",
    "        record['val_loss'] /= len(validloader)\n",
    "        record['val_accuracy'] /= len(validloader)\n",
    "        pbar.set_postfix(record)\n",
    "        history.append(record)"
   ],
   "metadata": {
    "collapsed": false,
    "pycharm": {
     "is_executing": true
    }
   }
  }
 ],
 "metadata": {
  "kernelspec": {
   "display_name": "Python 3 (ipykernel)",
   "language": "python",
   "name": "python3"
  },
  "language_info": {
   "codemirror_mode": {
    "name": "ipython",
    "version": 3
   },
   "file_extension": ".py",
   "mimetype": "text/x-python",
   "name": "python",
   "nbconvert_exporter": "python",
   "pygments_lexer": "ipython3",
   "version": "3.10.9"
  }
 },
 "nbformat": 4,
 "nbformat_minor": 1
}
