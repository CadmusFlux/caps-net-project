{
 "cells": [
  {
   "cell_type": "code",
   "execution_count": 1,
   "id": "109eb741-1716-4314-91de-99361a27c8c6",
   "metadata": {},
   "outputs": [
    {
     "name": "stderr",
     "output_type": "stream",
     "text": [
      "2023-02-26 11:57:55.799970: I tensorflow/core/platform/cpu_feature_guard.cc:193] This TensorFlow binary is optimized with oneAPI Deep Neural Network Library (oneDNN) to use the following CPU instructions in performance-critical operations:  AVX2 FMA\n",
      "To enable them in other operations, rebuild TensorFlow with the appropriate compiler flags.\n"
     ]
    }
   ],
   "source": [
    "import tensorflow_addons as tfa\n",
    "from utils.dataloader import *\n",
    "from utils.dataset import *\n",
    "from utils.layer import *\n",
    "from utils.loss_function import *"
   ]
  },
  {
   "cell_type": "code",
   "execution_count": 2,
   "id": "450cf894-5a2f-4a21-afa8-b9b5153e3d35",
   "metadata": {},
   "outputs": [
    {
     "name": "stderr",
     "output_type": "stream",
     "text": [
      "2023-02-26 11:57:57.413940: I tensorflow/compiler/xla/stream_executor/cuda/cuda_gpu_executor.cc:981] successful NUMA node read from SysFS had negative value (-1), but there must be at least one NUMA node, so returning NUMA node zero\n",
      "2023-02-26 11:57:57.416003: I tensorflow/compiler/xla/stream_executor/cuda/cuda_gpu_executor.cc:981] successful NUMA node read from SysFS had negative value (-1), but there must be at least one NUMA node, so returning NUMA node zero\n",
      "2023-02-26 11:57:57.416166: I tensorflow/compiler/xla/stream_executor/cuda/cuda_gpu_executor.cc:981] successful NUMA node read from SysFS had negative value (-1), but there must be at least one NUMA node, so returning NUMA node zero\n",
      "2023-02-26 11:57:57.416511: I tensorflow/core/platform/cpu_feature_guard.cc:193] This TensorFlow binary is optimized with oneAPI Deep Neural Network Library (oneDNN) to use the following CPU instructions in performance-critical operations:  AVX2 FMA\n",
      "To enable them in other operations, rebuild TensorFlow with the appropriate compiler flags.\n",
      "2023-02-26 11:57:57.417094: I tensorflow/compiler/xla/stream_executor/cuda/cuda_gpu_executor.cc:981] successful NUMA node read from SysFS had negative value (-1), but there must be at least one NUMA node, so returning NUMA node zero\n",
      "2023-02-26 11:57:57.417260: I tensorflow/compiler/xla/stream_executor/cuda/cuda_gpu_executor.cc:981] successful NUMA node read from SysFS had negative value (-1), but there must be at least one NUMA node, so returning NUMA node zero\n",
      "2023-02-26 11:57:57.417407: I tensorflow/compiler/xla/stream_executor/cuda/cuda_gpu_executor.cc:981] successful NUMA node read from SysFS had negative value (-1), but there must be at least one NUMA node, so returning NUMA node zero\n",
      "2023-02-26 11:57:57.823117: I tensorflow/compiler/xla/stream_executor/cuda/cuda_gpu_executor.cc:981] successful NUMA node read from SysFS had negative value (-1), but there must be at least one NUMA node, so returning NUMA node zero\n",
      "2023-02-26 11:57:57.823302: I tensorflow/compiler/xla/stream_executor/cuda/cuda_gpu_executor.cc:981] successful NUMA node read from SysFS had negative value (-1), but there must be at least one NUMA node, so returning NUMA node zero\n",
      "2023-02-26 11:57:57.823445: I tensorflow/compiler/xla/stream_executor/cuda/cuda_gpu_executor.cc:981] successful NUMA node read from SysFS had negative value (-1), but there must be at least one NUMA node, so returning NUMA node zero\n",
      "2023-02-26 11:57:57.823577: I tensorflow/core/common_runtime/gpu/gpu_device.cc:1613] Created device /job:localhost/replica:0/task:0/device:GPU:0 with 6501 MB memory:  -> device: 0, name: NVIDIA GeForce RTX 2070 SUPER, pci bus id: 0000:2d:00.0, compute capability: 7.5\n"
     ]
    },
    {
     "name": "stdout",
     "output_type": "stream",
     "text": [
      "Model: \"sequential\"\n",
      "_________________________________________________________________\n",
      " Layer (type)                Output Shape              Param #   \n",
      "=================================================================\n",
      " conv2d (Conv2D)             (None, 24, 24, 32)        800       \n",
      "                                                                 \n",
      " instance_normalization (Ins  (None, 24, 24, 32)       64        \n",
      " tanceNormalization)                                             \n",
      "                                                                 \n",
      " activation (Activation)     (None, 24, 24, 32)        0         \n",
      "                                                                 \n",
      " conv2d_1 (Conv2D)           (None, 22, 22, 64)        18432     \n",
      "                                                                 \n",
      " instance_normalization_1 (I  (None, 22, 22, 64)       128       \n",
      " nstanceNormalization)                                           \n",
      "                                                                 \n",
      " activation_1 (Activation)   (None, 22, 22, 64)        0         \n",
      "                                                                 \n",
      " conv2d_2 (Conv2D)           (None, 20, 20, 64)        36864     \n",
      "                                                                 \n",
      " instance_normalization_2 (I  (None, 20, 20, 64)       128       \n",
      " nstanceNormalization)                                           \n",
      "                                                                 \n",
      " activation_2 (Activation)   (None, 20, 20, 64)        0         \n",
      "                                                                 \n",
      " conv2d_3 (Conv2D)           (None, 9, 9, 128)         73728     \n",
      "                                                                 \n",
      " instance_normalization_3 (I  (None, 9, 9, 128)        256       \n",
      " nstanceNormalization)                                           \n",
      "                                                                 \n",
      " activation_3 (Activation)   (None, 9, 9, 128)         0         \n",
      "                                                                 \n",
      " primary_capsule (PrimaryCap  (None, 16, 8)            10368     \n",
      " sule)                                                           \n",
      "                                                                 \n",
      " capsule_sa (CapsuleSA)      (None, 10, 16)            20640     \n",
      "                                                                 \n",
      " capsule_length (CapsuleLeng  (None, 10)               0         \n",
      " th)                                                             \n",
      "                                                                 \n",
      "=================================================================\n",
      "Total params: 161,408\n",
      "Trainable params: 161,408\n",
      "Non-trainable params: 0\n",
      "_________________________________________________________________\n"
     ]
    },
    {
     "name": "stderr",
     "output_type": "stream",
     "text": [
      "2023-02-26 11:58:00.486304: I tensorflow/compiler/xla/stream_executor/cuda/cuda_dnn.cc:428] Loaded cuDNN version 8100\n",
      "2023-02-26 11:58:01.171942: I tensorflow/compiler/xla/service/service.cc:173] XLA service 0x7fbb9629a5e0 initialized for platform CUDA (this does not guarantee that XLA will be used). Devices:\n",
      "2023-02-26 11:58:01.171974: I tensorflow/compiler/xla/service/service.cc:181]   StreamExecutor device (0): NVIDIA GeForce RTX 2070 SUPER, Compute Capability 7.5\n",
      "2023-02-26 11:58:01.221852: I tensorflow/compiler/jit/xla_compilation_cache.cc:477] Compiled cluster using XLA!  This line is logged at most once for the lifetime of the process.\n"
     ]
    },
    {
     "name": "stdout",
     "output_type": "stream",
     "text": [
      "469/469 [==============================] - 10s 16ms/step - loss: 0.0696 - accuracy: 0.9432 - val_loss: 0.0156 - val_accuracy: 0.9897\n"
     ]
    }
   ],
   "source": [
    "tf.keras.backend.clear_session()\n",
    "\n",
    "\n",
    "def normalize(image):\n",
    "    return dict(image=image / 255)\n",
    "\n",
    "\n",
    "dataset_train = MNIST(transform=normalize)\n",
    "dataset_valid = MNIST(False, transform=normalize)\n",
    "\n",
    "batch_size = 128\n",
    "epochs = 1\n",
    "\n",
    "trainloader = DataLoader(dataset_train, batch_size, True)\n",
    "validloader = DataLoader(dataset_valid, batch_size)\n",
    "\n",
    "model = tf.keras.Sequential()\n",
    "model.add(tf.keras.layers.Input((28, 28, 1)))\n",
    "model.add(tf.keras.layers.Conv2D(32, 5, use_bias=False))\n",
    "model.add(tfa.layers.InstanceNormalization())\n",
    "model.add(tf.keras.layers.Activation(\"relu\"))\n",
    "model.add(tf.keras.layers.Conv2D(64, 3, use_bias=False))\n",
    "model.add(tfa.layers.InstanceNormalization())\n",
    "model.add(tf.keras.layers.Activation(\"relu\"))\n",
    "model.add(tf.keras.layers.Conv2D(64, 3, use_bias=False))\n",
    "model.add(tfa.layers.InstanceNormalization())\n",
    "model.add(tf.keras.layers.Activation(\"relu\"))\n",
    "model.add(tf.keras.layers.Conv2D(128, 3, 2, use_bias=False))\n",
    "model.add(tfa.layers.InstanceNormalization())\n",
    "model.add(tf.keras.layers.Activation(\"relu\"))\n",
    "model.add(PrimaryCapsule(16, 8, depthwise=True, squash=\"self_attention\"))\n",
    "model.add(CapsuleSA(10, 16))\n",
    "model.add(CapsuleLength())\n",
    "model.summary()\n",
    "model.compile(\n",
    "    optimizer=tfa.optimizers.AdamW(\n",
    "        1e-4,\n",
    "        tf.keras.optimizers.schedules.ExponentialDecay(\n",
    "            batch_size * 5e-4 / 16, len(trainloader) * epochs, 0.98\n",
    "        ),\n",
    "    ),\n",
    "    loss=Margin(),\n",
    "    metrics=[\"accuracy\"],\n",
    ")\n",
    "history = model.fit(trainloader, validation_data=validloader, epochs=epochs)"
   ]
  }
 ],
 "metadata": {
  "kernelspec": {
   "display_name": "Python 3 (ipykernel)",
   "language": "python",
   "name": "python3"
  },
  "language_info": {
   "codemirror_mode": {
    "name": "ipython",
    "version": 3
   },
   "file_extension": ".py",
   "mimetype": "text/x-python",
   "name": "python",
   "nbconvert_exporter": "python",
   "pygments_lexer": "ipython3",
   "version": "3.8.10"
  }
 },
 "nbformat": 4,
 "nbformat_minor": 5
}
